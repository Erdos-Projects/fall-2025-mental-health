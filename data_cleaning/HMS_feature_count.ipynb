{
 "cells": [
  {
   "cell_type": "code",
   "execution_count": null,
   "id": "7494a52f",
   "metadata": {},
   "outputs": [],
   "source": [
    "FILE_NAMES = ['HMS_2024-2025_PUBLIC_instchars.csv',\n",
    "'HMS_2023-2024_PUBLIC_instchars.csv',\n",
    "'HMS_2022-2023_PUBLIC_instchars.csv',\n",
    "'HMS_2021-2022_PUBLIC_instchars.csv',\n",
    "'HMS_2019-2020_PUBLIC_instchars.csv']\n",
    "\n",
    "cols = {}\n",
    "for file_name in FILE_NAMES:\n",
    "    with open(file_name , 'r') as f:\n",
    "        this_file_cols = f.readline().strip().split(',')\n",
    "\n",
    "        # Removes an annoying \"invisible\" first character, apparently comming from an UTF-16 encoding\n",
    "        if ord(this_file_cols[0][0]) == 65279:\n",
    "            this_file_cols[0] = this_file_cols[0][1:]\n",
    "\n",
    "        for col in this_file_cols:\n",
    "            if col in cols:\n",
    "                cols[col] += 1\n",
    "            else:\n",
    "                cols[col] = 1\n",
    "\n",
    "with open('feature_count.txt' , 'w') as f:\n",
    "    for key, value in cols.items():\n",
    "        f.write( str(key)+' '*(40-len(key))+str(value)+'\\n')"
   ]
  }
 ],
 "metadata": {
  "language_info": {
   "name": "python"
  }
 },
 "nbformat": 4,
 "nbformat_minor": 5
}
